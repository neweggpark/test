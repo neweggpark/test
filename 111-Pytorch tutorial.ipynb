{
  "nbformat": 4,
  "nbformat_minor": 0,
  "metadata": {
    "colab": {
      "name": "111-Pytorch tutorial.ipynb",
      "provenance": [],
      "collapsed_sections": [
        "17AkaO-rx02L",
        "uvcc7CBKx02O",
        "B90aXEdUx02P",
        "raF8YpmQx02R",
        "JUfLQ1FPx02R",
        "lL2LSkECx02T",
        "q2We-2vcx02W",
        "4a5aKLBXx02Y",
        "hX1Sm7uUx02Z",
        "CEIa8Tfdx02a",
        "qxcN0l0Ex02b",
        "pNcKPozYx02d",
        "aUNBsKY0x02h"
      ]
    },
    "kernelspec": {
      "display_name": "Python 3",
      "language": "python",
      "name": "python3"
    },
    "language_info": {
      "codemirror_mode": {
        "name": "ipython",
        "version": 3
      },
      "file_extension": ".py",
      "mimetype": "text/x-python",
      "name": "python",
      "nbconvert_exporter": "python",
      "pygments_lexer": "ipython3",
      "version": "3.6.10"
    },
    "accelerator": "GPU"
  },
  "cells": [
    {
      "cell_type": "markdown",
      "metadata": {
        "id": "zDzZezp5x02B"
      },
      "source": [
        "# Pytorch tutorial\n"
      ]
    },
    {
      "cell_type": "markdown",
      "metadata": {
        "id": "qMhmEs1Px02E"
      },
      "source": [
        "## What is pytorch?\n",
        "- Numpy를 대체하며 GPU연산을 지원하는 tensor 구조 지원  \n",
        "CUDA(NDVIA에서 gpu를 통한 연산을 위해 만든 API)와 cuDNN(CUDA를 활용하여 딥러닝 gpu연산을 지원하는 API)을 활용하여 연산 가속  \n",
        "일반적으로 CUDA와 cuDNN을 활용하는 연산은 CPU연산의 15배정도 가속을 가져옴. \n",
        "\n",
        "\n",
        "- backward() 함수를 통한 그래프 미분 연산 지원"
      ]
    },
    {
      "cell_type": "markdown",
      "metadata": {
        "id": "f6CpHw3Gx02F"
      },
      "source": [
        "## Pytorch vs Tensorflow"
      ]
    },
    {
      "cell_type": "markdown",
      "metadata": {
        "id": "Ti5q8SOVx02F"
      },
      "source": [
        "#### 둘 모두 GPU를 활용하는 framework\n",
        "- Tensorflow  \n",
        "`Define and Run`방식  \n",
        "연산 그래프를 미리 만들어두고, 실제 연산시 값을 전달하여 결과를 얻음(정적)  \n",
        "직관적이지 않고 그래프를 정의하는 부분과 실행하는 부분이 분리되어 코드가 길어짐  \n",
        "최적화에서 장점\n",
        "\n",
        "\n",
        "- Pytorch  \n",
        "`Define by Run` 방식  \n",
        "연산 그래프를 미리 만들어두지 않고 값이 할당되어 전달되는 과정에서 그래프가 작성(동적)  \n",
        "직관적이고 간단한 코드  \n",
        "(Pytorch측의 주장으로는)Tensorflow보다 평균 2.5배정도 빠른 속도(적어도 밀리지는 않음)"
      ]
    },
    {
      "cell_type": "markdown",
      "metadata": {
        "id": "--2PsdO5x02F"
      },
      "source": [
        "## Tensor"
      ]
    },
    {
      "cell_type": "markdown",
      "metadata": {
        "id": "sl1Jxu8Ox02G"
      },
      "source": [
        "Tensor: Numpy의 ndarray와 유사한 matrix자료구조. GPU연산 가속이 가능"
      ]
    },
    {
      "cell_type": "code",
      "metadata": {
        "id": "7RLJYZlRx02G"
      },
      "source": [
        "import torch\n",
        "import numpy as np"
      ],
      "execution_count": 63,
      "outputs": []
    },
    {
      "cell_type": "markdown",
      "metadata": {
        "id": "xbEY07RKx02G"
      },
      "source": [
        "### Tensor 생성"
      ]
    },
    {
      "cell_type": "code",
      "metadata": {
        "id": "dkopew_ix02H",
        "outputId": "6e9db86a-fb7d-42fe-dde5-ea7cdf9fce5f",
        "colab": {
          "base_uri": "https://localhost:8080/"
        }
      },
      "source": [
        "not_initialized = torch.empty(3, 4)\n",
        "not_initialized"
      ],
      "execution_count": 64,
      "outputs": [
        {
          "output_type": "execute_result",
          "data": {
            "text/plain": [
              "tensor([[-9.3447e-22,  3.0656e-41,  3.6013e-43,  0.0000e+00],\n",
              "        [        nan,  0.0000e+00,  1.8314e+25,  6.9768e+22],\n",
              "        [ 8.5305e+02,  3.0331e+32,  3.9415e+12,  1.0333e+18]])"
            ]
          },
          "metadata": {},
          "execution_count": 64
        }
      ]
    },
    {
      "cell_type": "code",
      "metadata": {
        "id": "Xyx150Ppx02H",
        "outputId": "84bebad8-bd42-4b01-97ff-bde35ae44c51",
        "colab": {
          "base_uri": "https://localhost:8080/"
        }
      },
      "source": [
        "random_initialized = torch.rand(3, 4)\n",
        "random_initialized"
      ],
      "execution_count": 65,
      "outputs": [
        {
          "output_type": "execute_result",
          "data": {
            "text/plain": [
              "tensor([[0.6944, 0.4530, 0.2075, 0.3438],\n",
              "        [0.0609, 0.6812, 0.3449, 0.7304],\n",
              "        [0.4160, 0.7457, 0.1024, 0.4626]])"
            ]
          },
          "metadata": {},
          "execution_count": 65
        }
      ]
    },
    {
      "cell_type": "code",
      "metadata": {
        "id": "Q1thWlgxx02I",
        "outputId": "2732fcbc-e4ea-4b1e-b791-8063690cb463",
        "colab": {
          "base_uri": "https://localhost:8080/"
        }
      },
      "source": [
        "zero_initialized = torch.zeros(3, 4)\n",
        "zero_initialized"
      ],
      "execution_count": 66,
      "outputs": [
        {
          "output_type": "execute_result",
          "data": {
            "text/plain": [
              "tensor([[0., 0., 0., 0.],\n",
              "        [0., 0., 0., 0.],\n",
              "        [0., 0., 0., 0.]])"
            ]
          },
          "metadata": {},
          "execution_count": 66
        }
      ]
    },
    {
      "cell_type": "code",
      "metadata": {
        "id": "idNHRz3px02I",
        "outputId": "bd980211-c773-4a62-d7a8-33d99247f7be",
        "colab": {
          "base_uri": "https://localhost:8080/"
        }
      },
      "source": [
        "list_initialized = torch.tensor([[1, 2],[3, 4]])\n",
        "list_initialized"
      ],
      "execution_count": 67,
      "outputs": [
        {
          "output_type": "execute_result",
          "data": {
            "text/plain": [
              "tensor([[1, 2],\n",
              "        [3, 4]])"
            ]
          },
          "metadata": {},
          "execution_count": 67
        }
      ]
    },
    {
      "cell_type": "code",
      "metadata": {
        "id": "ZLVVxFE5x02J",
        "outputId": "3634b991-4436-452b-99fb-1ae6411e3b39",
        "colab": {
          "base_uri": "https://localhost:8080/"
        }
      },
      "source": [
        "arange_lnitiaized = torch.arange(10)\n",
        "arange_lnitiaized"
      ],
      "execution_count": 68,
      "outputs": [
        {
          "output_type": "execute_result",
          "data": {
            "text/plain": [
              "tensor([0, 1, 2, 3, 4, 5, 6, 7, 8, 9])"
            ]
          },
          "metadata": {},
          "execution_count": 68
        }
      ]
    },
    {
      "cell_type": "markdown",
      "metadata": {
        "id": "338U0oH5x02J"
      },
      "source": [
        "### Tensor와 numpy간의 변환"
      ]
    },
    {
      "cell_type": "code",
      "metadata": {
        "id": "iNnT6_2Ix02J",
        "outputId": "8042016c-74f0-4bee-f224-447c7d01195f",
        "colab": {
          "base_uri": "https://localhost:8080/"
        }
      },
      "source": [
        "x = torch.ones(10)\n",
        "x, type(x)"
      ],
      "execution_count": 69,
      "outputs": [
        {
          "output_type": "execute_result",
          "data": {
            "text/plain": [
              "(tensor([1., 1., 1., 1., 1., 1., 1., 1., 1., 1.]), torch.Tensor)"
            ]
          },
          "metadata": {},
          "execution_count": 69
        }
      ]
    },
    {
      "cell_type": "code",
      "metadata": {
        "id": "B-KguJxwx02K",
        "outputId": "b28e39f6-f60b-4254-fd46-387d7d0fcdf7",
        "colab": {
          "base_uri": "https://localhost:8080/"
        }
      },
      "source": [
        "y = x.numpy()\n",
        "y, type(y)"
      ],
      "execution_count": 70,
      "outputs": [
        {
          "output_type": "execute_result",
          "data": {
            "text/plain": [
              "(array([1., 1., 1., 1., 1., 1., 1., 1., 1., 1.], dtype=float32), numpy.ndarray)"
            ]
          },
          "metadata": {},
          "execution_count": 70
        }
      ]
    },
    {
      "cell_type": "code",
      "metadata": {
        "id": "wFWL03tEx02K",
        "outputId": "a0b1ec53-2669-407b-a5cb-c93eb3919bf0",
        "colab": {
          "base_uri": "https://localhost:8080/"
        }
      },
      "source": [
        "z = torch.from_numpy(y)\n",
        "z"
      ],
      "execution_count": 71,
      "outputs": [
        {
          "output_type": "execute_result",
          "data": {
            "text/plain": [
              "tensor([1., 1., 1., 1., 1., 1., 1., 1., 1., 1.])"
            ]
          },
          "metadata": {},
          "execution_count": 71
        }
      ]
    },
    {
      "cell_type": "markdown",
      "metadata": {
        "id": "17AkaO-rx02L"
      },
      "source": [
        "#### 주의사항 - tensor와 ndarray는 메모리공간을 공유함"
      ]
    },
    {
      "cell_type": "code",
      "metadata": {
        "id": "QhFw8HxRx02M",
        "outputId": "8edf92ff-920e-4816-a455-2bcbb15763fc",
        "colab": {
          "base_uri": "https://localhost:8080/"
        }
      },
      "source": [
        "x.add_(1)"
      ],
      "execution_count": 72,
      "outputs": [
        {
          "output_type": "execute_result",
          "data": {
            "text/plain": [
              "tensor([2., 2., 2., 2., 2., 2., 2., 2., 2., 2.])"
            ]
          },
          "metadata": {},
          "execution_count": 72
        }
      ]
    },
    {
      "cell_type": "code",
      "metadata": {
        "id": "lJycARKlx02N",
        "outputId": "dcb80b63-7879-4fbd-ff51-4ea867b29a08",
        "colab": {
          "base_uri": "https://localhost:8080/"
        }
      },
      "source": [
        "x"
      ],
      "execution_count": 73,
      "outputs": [
        {
          "output_type": "execute_result",
          "data": {
            "text/plain": [
              "tensor([2., 2., 2., 2., 2., 2., 2., 2., 2., 2.])"
            ]
          },
          "metadata": {},
          "execution_count": 73
        }
      ]
    },
    {
      "cell_type": "code",
      "metadata": {
        "id": "uXRTal76x02O",
        "outputId": "d789460f-9ca7-4294-fbe1-b9528f722f48",
        "colab": {
          "base_uri": "https://localhost:8080/"
        }
      },
      "source": [
        "y, z"
      ],
      "execution_count": 74,
      "outputs": [
        {
          "output_type": "execute_result",
          "data": {
            "text/plain": [
              "(array([2., 2., 2., 2., 2., 2., 2., 2., 2., 2.], dtype=float32),\n",
              " tensor([2., 2., 2., 2., 2., 2., 2., 2., 2., 2.]))"
            ]
          },
          "metadata": {},
          "execution_count": 74
        }
      ]
    },
    {
      "cell_type": "markdown",
      "metadata": {
        "id": "uvcc7CBKx02O"
      },
      "source": [
        "### Tensor 특성"
      ]
    },
    {
      "cell_type": "code",
      "metadata": {
        "id": "AG3JYwnzx02O",
        "outputId": "0abe9775-5f3d-4f30-affe-8de2567df1d5",
        "colab": {
          "base_uri": "https://localhost:8080/"
        }
      },
      "source": [
        "list_initialized.shape, list_initialized.ndim"
      ],
      "execution_count": 75,
      "outputs": [
        {
          "output_type": "execute_result",
          "data": {
            "text/plain": [
              "(torch.Size([2, 2]), 2)"
            ]
          },
          "metadata": {},
          "execution_count": 75
        }
      ]
    },
    {
      "cell_type": "code",
      "metadata": {
        "id": "ucigRgKUx02P",
        "outputId": "7340fffd-095c-4f50-aabd-ed6196101443",
        "colab": {
          "base_uri": "https://localhost:8080/"
        }
      },
      "source": [
        "\n",
        "list_initialized.size()"
      ],
      "execution_count": 76,
      "outputs": [
        {
          "output_type": "execute_result",
          "data": {
            "text/plain": [
              "torch.Size([2, 2])"
            ]
          },
          "metadata": {},
          "execution_count": 76
        }
      ]
    },
    {
      "cell_type": "markdown",
      "metadata": {
        "id": "B90aXEdUx02P"
      },
      "source": [
        "### Tensor reshape vs view"
      ]
    },
    {
      "cell_type": "markdown",
      "metadata": {
        "id": "dU3aoArKx02P"
      },
      "source": [
        "-  두 함수는 기본적으로 같은 기능을 하나, view는 shallow copy이다.\n",
        "-  그러나, reshape이 deep copy인 것은 아니다. reshape은 상황에 따라 deep/shallow를 넘나든다.\n",
        "-  Reshape은 Contiguous한 operate를 지원하나, view는 지원하지 않는다."
      ]
    },
    {
      "cell_type": "code",
      "metadata": {
        "id": "UmoUKOCMx02Q",
        "outputId": "8d173c42-095b-48c5-eed5-04d608e65485",
        "colab": {
          "base_uri": "https://localhost:8080/"
        }
      },
      "source": [
        "list_initialized.t()"
      ],
      "execution_count": 77,
      "outputs": [
        {
          "output_type": "execute_result",
          "data": {
            "text/plain": [
              "tensor([[1, 3],\n",
              "        [2, 4]])"
            ]
          },
          "metadata": {},
          "execution_count": 77
        }
      ]
    },
    {
      "cell_type": "code",
      "metadata": {
        "id": "izUaMP4_x02Q",
        "outputId": "b1d315cd-da10-40fc-aaf5-ac0b74f90932",
        "colab": {
          "base_uri": "https://localhost:8080/"
        }
      },
      "source": [
        "list_initialized.t().reshape(-1, 1)"
      ],
      "execution_count": 78,
      "outputs": [
        {
          "output_type": "execute_result",
          "data": {
            "text/plain": [
              "tensor([[1],\n",
              "        [3],\n",
              "        [2],\n",
              "        [4]])"
            ]
          },
          "metadata": {},
          "execution_count": 78
        }
      ]
    },
    {
      "cell_type": "code",
      "metadata": {
        "id": "rdmEsITax02Q",
        "outputId": "abdb1a19-9014-440f-f522-5948e9325ecd",
        "colab": {
          "base_uri": "https://localhost:8080/",
          "height": 172
        }
      },
      "source": [
        "list_initialized.t().view(-1, 1) # Error!"
      ],
      "execution_count": 79,
      "outputs": [
        {
          "output_type": "error",
          "ename": "RuntimeError",
          "evalue": "ignored",
          "traceback": [
            "\u001b[0;31m---------------------------------------------------------------------------\u001b[0m",
            "\u001b[0;31mRuntimeError\u001b[0m                              Traceback (most recent call last)",
            "\u001b[0;32m<ipython-input-79-6fb02f7af891>\u001b[0m in \u001b[0;36m<module>\u001b[0;34m()\u001b[0m\n\u001b[0;32m----> 1\u001b[0;31m \u001b[0mlist_initialized\u001b[0m\u001b[0;34m.\u001b[0m\u001b[0mt\u001b[0m\u001b[0;34m(\u001b[0m\u001b[0;34m)\u001b[0m\u001b[0;34m.\u001b[0m\u001b[0mview\u001b[0m\u001b[0;34m(\u001b[0m\u001b[0;34m-\u001b[0m\u001b[0;36m1\u001b[0m\u001b[0;34m,\u001b[0m \u001b[0;36m1\u001b[0m\u001b[0;34m)\u001b[0m \u001b[0;31m# Error!\u001b[0m\u001b[0;34m\u001b[0m\u001b[0;34m\u001b[0m\u001b[0m\n\u001b[0m",
            "\u001b[0;31mRuntimeError\u001b[0m: view size is not compatible with input tensor's size and stride (at least one dimension spans across two contiguous subspaces). Use .reshape(...) instead."
          ]
        }
      ]
    },
    {
      "cell_type": "markdown",
      "metadata": {
        "id": "raF8YpmQx02R"
      },
      "source": [
        "### Tensor의 배열 연산"
      ]
    },
    {
      "cell_type": "markdown",
      "metadata": {
        "id": "9CcCJ8lvx02R"
      },
      "source": [
        "인덱싱, 슬라이싱, 선형대수 등 각종 연산 numpy와 동일하게 수행 가능"
      ]
    },
    {
      "cell_type": "markdown",
      "metadata": {
        "id": "JUfLQ1FPx02R"
      },
      "source": [
        "#### 기본연산"
      ]
    },
    {
      "cell_type": "code",
      "metadata": {
        "id": "QkMcYGOJx02R",
        "outputId": "8a716e42-ae7c-4e83-8346-90e38b7da0d5",
        "colab": {
          "base_uri": "https://localhost:8080/"
        }
      },
      "source": [
        "x = torch.arange(1, 11).reshape(2, 5)\n",
        "y = torch.arange(1, 20, step=2).reshape(2, 5)\n",
        "x, y"
      ],
      "execution_count": 80,
      "outputs": [
        {
          "output_type": "execute_result",
          "data": {
            "text/plain": [
              "(tensor([[ 1,  2,  3,  4,  5],\n",
              "         [ 6,  7,  8,  9, 10]]), tensor([[ 1,  3,  5,  7,  9],\n",
              "         [11, 13, 15, 17, 19]]))"
            ]
          },
          "metadata": {},
          "execution_count": 80
        }
      ]
    },
    {
      "cell_type": "code",
      "metadata": {
        "id": "pHS53G0ix02R",
        "outputId": "34f51319-3352-4000-df14-eb12eea806c5",
        "colab": {
          "base_uri": "https://localhost:8080/"
        }
      },
      "source": [
        "x + y, torch.add(x, y)"
      ],
      "execution_count": 81,
      "outputs": [
        {
          "output_type": "execute_result",
          "data": {
            "text/plain": [
              "(tensor([[ 2,  5,  8, 11, 14],\n",
              "         [17, 20, 23, 26, 29]]), tensor([[ 2,  5,  8, 11, 14],\n",
              "         [17, 20, 23, 26, 29]]))"
            ]
          },
          "metadata": {},
          "execution_count": 81
        }
      ]
    },
    {
      "cell_type": "code",
      "metadata": {
        "id": "y1mMo_Whx02S",
        "outputId": "b85855b8-2f76-4c23-aefc-a13562edc0cb",
        "colab": {
          "base_uri": "https://localhost:8080/"
        }
      },
      "source": [
        "x - y, torch.sub(x, y)"
      ],
      "execution_count": 82,
      "outputs": [
        {
          "output_type": "execute_result",
          "data": {
            "text/plain": [
              "(tensor([[ 0, -1, -2, -3, -4],\n",
              "         [-5, -6, -7, -8, -9]]), tensor([[ 0, -1, -2, -3, -4],\n",
              "         [-5, -6, -7, -8, -9]]))"
            ]
          },
          "metadata": {},
          "execution_count": 82
        }
      ]
    },
    {
      "cell_type": "code",
      "metadata": {
        "id": "bzHgtEaqx02S",
        "outputId": "70de420e-d6b0-4e73-f4e6-9b8c4e185658",
        "colab": {
          "base_uri": "https://localhost:8080/"
        }
      },
      "source": [
        "x * y"
      ],
      "execution_count": 83,
      "outputs": [
        {
          "output_type": "execute_result",
          "data": {
            "text/plain": [
              "tensor([[  1,   6,  15,  28,  45],\n",
              "        [ 66,  91, 120, 153, 190]])"
            ]
          },
          "metadata": {},
          "execution_count": 83
        }
      ]
    },
    {
      "cell_type": "code",
      "metadata": {
        "id": "hIGgmuq7x02T",
        "outputId": "4dd8e2f4-ca9f-42d3-c5ac-59d88e74f652",
        "colab": {
          "base_uri": "https://localhost:8080/"
        }
      },
      "source": [
        "y % x"
      ],
      "execution_count": 84,
      "outputs": [
        {
          "output_type": "execute_result",
          "data": {
            "text/plain": [
              "tensor([[0, 1, 2, 3, 4],\n",
              "        [5, 6, 7, 8, 9]])"
            ]
          },
          "metadata": {},
          "execution_count": 84
        }
      ]
    },
    {
      "cell_type": "markdown",
      "metadata": {
        "id": "lL2LSkECx02T"
      },
      "source": [
        "#### 행렬곱"
      ]
    },
    {
      "cell_type": "code",
      "metadata": {
        "id": "29IFDX0ix02V",
        "outputId": "bc992e58-06ff-411e-cd81-eda179032902",
        "colab": {
          "base_uri": "https://localhost:8080/"
        }
      },
      "source": [
        "x.matmul(y.reshape(5, 2))"
      ],
      "execution_count": 85,
      "outputs": [
        {
          "output_type": "execute_result",
          "data": {
            "text/plain": [
              "tensor([[175, 205],\n",
              "        [400, 480]])"
            ]
          },
          "metadata": {},
          "execution_count": 85
        }
      ]
    },
    {
      "cell_type": "markdown",
      "metadata": {
        "id": "q2We-2vcx02W"
      },
      "source": [
        "#### 바꿔치기(in-place) 와 반환하기(out-of-place)"
      ]
    },
    {
      "cell_type": "code",
      "metadata": {
        "id": "8HG01Ygxx02W",
        "outputId": "81854d25-69e0-4c0e-bca0-e0aaa03af1aa",
        "colab": {
          "base_uri": "https://localhost:8080/"
        }
      },
      "source": [
        "x"
      ],
      "execution_count": 86,
      "outputs": [
        {
          "output_type": "execute_result",
          "data": {
            "text/plain": [
              "tensor([[ 1,  2,  3,  4,  5],\n",
              "        [ 6,  7,  8,  9, 10]])"
            ]
          },
          "metadata": {},
          "execution_count": 86
        }
      ]
    },
    {
      "cell_type": "code",
      "metadata": {
        "id": "j1N3zBVWx02X",
        "outputId": "efcb483a-799d-4d04-e7af-76ca05fc69a6",
        "colab": {
          "base_uri": "https://localhost:8080/"
        }
      },
      "source": [
        "x.add(3)"
      ],
      "execution_count": 87,
      "outputs": [
        {
          "output_type": "execute_result",
          "data": {
            "text/plain": [
              "tensor([[ 4,  5,  6,  7,  8],\n",
              "        [ 9, 10, 11, 12, 13]])"
            ]
          },
          "metadata": {},
          "execution_count": 87
        }
      ]
    },
    {
      "cell_type": "code",
      "metadata": {
        "id": "oisQKd1ex02X",
        "outputId": "8cb5564d-dae7-4196-b4ea-170ff9ec4ecf",
        "colab": {
          "base_uri": "https://localhost:8080/"
        }
      },
      "source": [
        "x"
      ],
      "execution_count": 88,
      "outputs": [
        {
          "output_type": "execute_result",
          "data": {
            "text/plain": [
              "tensor([[ 1,  2,  3,  4,  5],\n",
              "        [ 6,  7,  8,  9, 10]])"
            ]
          },
          "metadata": {},
          "execution_count": 88
        }
      ]
    },
    {
      "cell_type": "code",
      "metadata": {
        "id": "jxYWAxDrx02X",
        "outputId": "92a9b7d5-0e77-421d-b748-e49c7c56f827",
        "colab": {
          "base_uri": "https://localhost:8080/"
        }
      },
      "source": [
        "x.add_(3)"
      ],
      "execution_count": 89,
      "outputs": [
        {
          "output_type": "execute_result",
          "data": {
            "text/plain": [
              "tensor([[ 4,  5,  6,  7,  8],\n",
              "        [ 9, 10, 11, 12, 13]])"
            ]
          },
          "metadata": {},
          "execution_count": 89
        }
      ]
    },
    {
      "cell_type": "code",
      "metadata": {
        "id": "EVu26uLTx02Y",
        "outputId": "e8287ad6-b8a5-45af-e127-e15df9aaa3b6",
        "colab": {
          "base_uri": "https://localhost:8080/"
        }
      },
      "source": [
        "x"
      ],
      "execution_count": 90,
      "outputs": [
        {
          "output_type": "execute_result",
          "data": {
            "text/plain": [
              "tensor([[ 4,  5,  6,  7,  8],\n",
              "        [ 9, 10, 11, 12, 13]])"
            ]
          },
          "metadata": {},
          "execution_count": 90
        }
      ]
    },
    {
      "cell_type": "markdown",
      "metadata": {
        "id": "4a5aKLBXx02Y"
      },
      "source": [
        "#### 헷갈리는 경우"
      ]
    },
    {
      "cell_type": "code",
      "metadata": {
        "id": "NnbIKWYMx02Y",
        "outputId": "a8f4d908-bc98-4ebf-93f2-8c09fd873d87",
        "colab": {
          "base_uri": "https://localhost:8080/"
        }
      },
      "source": [
        "z = x.numpy()\n",
        "x = x.add(3)\n",
        "print('x:',x)\n",
        "print('z:',z)\n",
        "print('========================')\n",
        "x.add_(3)\n",
        "print('x:', x)\n",
        "print('z:', z)"
      ],
      "execution_count": 91,
      "outputs": [
        {
          "output_type": "stream",
          "name": "stdout",
          "text": [
            "x: tensor([[ 7,  8,  9, 10, 11],\n",
            "        [12, 13, 14, 15, 16]])\n",
            "z: [[ 4  5  6  7  8]\n",
            " [ 9 10 11 12 13]]\n",
            "========================\n",
            "x: tensor([[10, 11, 12, 13, 14],\n",
            "        [15, 16, 17, 18, 19]])\n",
            "z: [[ 4  5  6  7  8]\n",
            " [ 9 10 11 12 13]]\n"
          ]
        }
      ]
    },
    {
      "cell_type": "markdown",
      "metadata": {
        "id": "hX1Sm7uUx02Z"
      },
      "source": [
        "#### Indexing and slicing"
      ]
    },
    {
      "cell_type": "code",
      "metadata": {
        "id": "2_V9hjIlx02Z",
        "outputId": "51ddce6a-522d-4912-966d-2df2a3a38f06",
        "colab": {
          "base_uri": "https://localhost:8080/"
        }
      },
      "source": [
        "x[0, 3]"
      ],
      "execution_count": 92,
      "outputs": [
        {
          "output_type": "execute_result",
          "data": {
            "text/plain": [
              "tensor(13)"
            ]
          },
          "metadata": {},
          "execution_count": 92
        }
      ]
    },
    {
      "cell_type": "code",
      "metadata": {
        "id": "YX2x4191x02a",
        "outputId": "492486b7-dce8-4849-f303-23c5ad41e194",
        "colab": {
          "base_uri": "https://localhost:8080/"
        }
      },
      "source": [
        "x[:, 1:4]"
      ],
      "execution_count": 93,
      "outputs": [
        {
          "output_type": "execute_result",
          "data": {
            "text/plain": [
              "tensor([[11, 12, 13],\n",
              "        [16, 17, 18]])"
            ]
          },
          "metadata": {},
          "execution_count": 93
        }
      ]
    },
    {
      "cell_type": "markdown",
      "metadata": {
        "id": "CEIa8Tfdx02a"
      },
      "source": [
        "### Aggregation"
      ]
    },
    {
      "cell_type": "code",
      "metadata": {
        "id": "6DvHNt9Fx02a",
        "outputId": "5ea03f95-b3d9-4eda-f337-e73a0e5022c8",
        "colab": {
          "base_uri": "https://localhost:8080/"
        }
      },
      "source": [
        "x"
      ],
      "execution_count": 94,
      "outputs": [
        {
          "output_type": "execute_result",
          "data": {
            "text/plain": [
              "tensor([[10, 11, 12, 13, 14],\n",
              "        [15, 16, 17, 18, 19]])"
            ]
          },
          "metadata": {},
          "execution_count": 94
        }
      ]
    },
    {
      "cell_type": "code",
      "metadata": {
        "id": "u_UdSVccx02a",
        "outputId": "ff092bac-27ec-4c8e-aa91-9237f6bbb04a",
        "colab": {
          "base_uri": "https://localhost:8080/"
        }
      },
      "source": [
        "x.sum()"
      ],
      "execution_count": 95,
      "outputs": [
        {
          "output_type": "execute_result",
          "data": {
            "text/plain": [
              "tensor(145)"
            ]
          },
          "metadata": {},
          "execution_count": 95
        }
      ]
    },
    {
      "cell_type": "code",
      "metadata": {
        "id": "LOgoUkzwx02b",
        "outputId": "61bbed79-4782-43c7-a4c9-7a0e803b2d75",
        "colab": {
          "base_uri": "https://localhost:8080/"
        }
      },
      "source": [
        "x.sum(dim=0), x.sum(axis=0)"
      ],
      "execution_count": 96,
      "outputs": [
        {
          "output_type": "execute_result",
          "data": {
            "text/plain": [
              "(tensor([25, 27, 29, 31, 33]), tensor([25, 27, 29, 31, 33]))"
            ]
          },
          "metadata": {},
          "execution_count": 96
        }
      ]
    },
    {
      "cell_type": "code",
      "metadata": {
        "id": "-tj79e6ox02b",
        "outputId": "9e59bf33-aa57-4644-9500-6dac4a2cc555",
        "colab": {
          "base_uri": "https://localhost:8080/"
        }
      },
      "source": [
        "x.sum(dim=1), x.sum(axis=1)"
      ],
      "execution_count": 97,
      "outputs": [
        {
          "output_type": "execute_result",
          "data": {
            "text/plain": [
              "(tensor([60, 85]), tensor([60, 85]))"
            ]
          },
          "metadata": {},
          "execution_count": 97
        }
      ]
    },
    {
      "cell_type": "markdown",
      "metadata": {
        "id": "qxcN0l0Ex02b"
      },
      "source": [
        "#### Can't use mean() on integers"
      ]
    },
    {
      "cell_type": "code",
      "metadata": {
        "id": "K4ZdPa49x02b",
        "outputId": "c681d9fb-f250-4e38-e1b4-d36a44a43b27",
        "colab": {
          "base_uri": "https://localhost:8080/"
        }
      },
      "source": [
        "x.dtype, x"
      ],
      "execution_count": 98,
      "outputs": [
        {
          "output_type": "execute_result",
          "data": {
            "text/plain": [
              "(torch.int64, tensor([[10, 11, 12, 13, 14],\n",
              "         [15, 16, 17, 18, 19]]))"
            ]
          },
          "metadata": {},
          "execution_count": 98
        }
      ]
    },
    {
      "cell_type": "code",
      "metadata": {
        "id": "OsawsBLqx02b",
        "outputId": "846b6811-d7be-4403-eded-0a9cac215847",
        "colab": {
          "base_uri": "https://localhost:8080/"
        }
      },
      "source": [
        "try:\n",
        "    print(x.mean(dim=0))\n",
        "except Exception as exc:\n",
        "    print(exc)"
      ],
      "execution_count": 99,
      "outputs": [
        {
          "output_type": "stream",
          "name": "stdout",
          "text": [
            "Can only calculate the mean of floating types. Got Long instead.\n"
          ]
        }
      ]
    },
    {
      "cell_type": "code",
      "metadata": {
        "id": "ZKxc0Jy_x02c",
        "outputId": "6a31b7f1-b4d4-4588-cc95-fdb08f23e32b",
        "colab": {
          "base_uri": "https://localhost:8080/"
        }
      },
      "source": [
        "# x = torch.arange(1, 11, dtype=float).reshape(2, 5)\n",
        "x = x.float()\n",
        "x"
      ],
      "execution_count": 100,
      "outputs": [
        {
          "output_type": "execute_result",
          "data": {
            "text/plain": [
              "tensor([[10., 11., 12., 13., 14.],\n",
              "        [15., 16., 17., 18., 19.]])"
            ]
          },
          "metadata": {},
          "execution_count": 100
        }
      ]
    },
    {
      "cell_type": "code",
      "metadata": {
        "id": "XKjDzMrAx02c",
        "outputId": "cefe968d-d3fe-4544-f217-639c3b409b32",
        "colab": {
          "base_uri": "https://localhost:8080/"
        }
      },
      "source": [
        "x.mean(), x.mean(dim=0)"
      ],
      "execution_count": 101,
      "outputs": [
        {
          "output_type": "execute_result",
          "data": {
            "text/plain": [
              "(tensor(14.5000), tensor([12.5000, 13.5000, 14.5000, 15.5000, 16.5000]))"
            ]
          },
          "metadata": {},
          "execution_count": 101
        }
      ]
    },
    {
      "cell_type": "markdown",
      "metadata": {
        "id": "pNcKPozYx02d"
      },
      "source": [
        "### Broadcasting"
      ]
    },
    {
      "cell_type": "code",
      "metadata": {
        "id": "YLS1jVukx02d"
      },
      "source": [
        "x = torch.arange(1, 11).reshape(1, -1)\n",
        "y = torch.arange(1, 20, step=2).reshape(-1, 1)"
      ],
      "execution_count": 102,
      "outputs": []
    },
    {
      "cell_type": "code",
      "metadata": {
        "id": "97FLUA7tx02d",
        "outputId": "2cfe9fd8-4c1a-412e-80e8-c1c5d9bd3f56",
        "colab": {
          "base_uri": "https://localhost:8080/"
        }
      },
      "source": [
        "x + y"
      ],
      "execution_count": 103,
      "outputs": [
        {
          "output_type": "execute_result",
          "data": {
            "text/plain": [
              "tensor([[ 2,  3,  4,  5,  6,  7,  8,  9, 10, 11],\n",
              "        [ 4,  5,  6,  7,  8,  9, 10, 11, 12, 13],\n",
              "        [ 6,  7,  8,  9, 10, 11, 12, 13, 14, 15],\n",
              "        [ 8,  9, 10, 11, 12, 13, 14, 15, 16, 17],\n",
              "        [10, 11, 12, 13, 14, 15, 16, 17, 18, 19],\n",
              "        [12, 13, 14, 15, 16, 17, 18, 19, 20, 21],\n",
              "        [14, 15, 16, 17, 18, 19, 20, 21, 22, 23],\n",
              "        [16, 17, 18, 19, 20, 21, 22, 23, 24, 25],\n",
              "        [18, 19, 20, 21, 22, 23, 24, 25, 26, 27],\n",
              "        [20, 21, 22, 23, 24, 25, 26, 27, 28, 29]])"
            ]
          },
          "metadata": {},
          "execution_count": 103
        }
      ]
    },
    {
      "cell_type": "markdown",
      "metadata": {
        "id": "527oICN2x02e"
      },
      "source": [
        "## AUTOGRAD: 자동미분"
      ]
    },
    {
      "cell_type": "markdown",
      "metadata": {
        "id": "TipK2n9dx02e"
      },
      "source": [
        "`pytorch` 신경망의 중심. `backward()`를 가능케 하는 패키지  \n",
        "`Tensor`의 모든 연산에 대해 자동 미분을 제공"
      ]
    },
    {
      "cell_type": "markdown",
      "metadata": {
        "id": "1h8J2XqZx02e"
      },
      "source": [
        "`pytorch.Tensor` class에는 `.required_grad` 속성이 존재  \n",
        "`.required_grad`를 True로 세팅하면 해당 tensor를 기반으로 이루어신 모든 연산을 추적(track)하기 시작함  \n",
        "모든 연산이 완료된 후, `backward()`를 호출하면 모든 gradient가 자동으로 계산(`Tensor.grad` 속성에 gradient가 누적됨)"
      ]
    },
    {
      "cell_type": "markdown",
      "metadata": {
        "id": "eJA-Xb96x02e"
      },
      "source": [
        "Autograd의 다른 중요 class는 `Function`class  \n",
        "`Tensor`와 `Function`class는 연결되어 있으며, 모든 연산을 encode하여 acyclic graph를 생성  \n",
        "각각의 tensor는 `.grad_fn`속성을 가지며 이는 `Tensor`를 생성한 `Function`을 참조함"
      ]
    },
    {
      "cell_type": "code",
      "metadata": {
        "id": "umHK-SP-x02e",
        "outputId": "3928ea99-0446-456c-80d6-2bae5f79d704",
        "colab": {
          "base_uri": "https://localhost:8080/"
        }
      },
      "source": [
        "x = torch.ones(5, 2, requires_grad=True)\n",
        "# x = torch.arange(10, dtype=torch.float32).reshape(5, 2)\n",
        "# x.requires_grad = True\n",
        "x"
      ],
      "execution_count": 104,
      "outputs": [
        {
          "output_type": "execute_result",
          "data": {
            "text/plain": [
              "tensor([[1., 1.],\n",
              "        [1., 1.],\n",
              "        [1., 1.],\n",
              "        [1., 1.],\n",
              "        [1., 1.]], requires_grad=True)"
            ]
          },
          "metadata": {},
          "execution_count": 104
        }
      ]
    },
    {
      "cell_type": "code",
      "metadata": {
        "id": "A72TgGEEx02f"
      },
      "source": [
        "y = x + 10"
      ],
      "execution_count": 105,
      "outputs": []
    },
    {
      "cell_type": "code",
      "metadata": {
        "id": "fJSOLt7Mx02f",
        "outputId": "794e93a8-2338-4ac7-993a-961fb081ca1c",
        "colab": {
          "base_uri": "https://localhost:8080/"
        }
      },
      "source": [
        "y"
      ],
      "execution_count": 106,
      "outputs": [
        {
          "output_type": "execute_result",
          "data": {
            "text/plain": [
              "tensor([[11., 11.],\n",
              "        [11., 11.],\n",
              "        [11., 11.],\n",
              "        [11., 11.],\n",
              "        [11., 11.]], grad_fn=<AddBackward0>)"
            ]
          },
          "metadata": {},
          "execution_count": 106
        }
      ]
    },
    {
      "cell_type": "markdown",
      "metadata": {
        "id": "bK2vHwmIx02f"
      },
      "source": [
        "y는 연산의 결과로 생성된 tensor이므로 grad_fn을 가짐"
      ]
    },
    {
      "cell_type": "code",
      "metadata": {
        "id": "5X8FtJA5x02f",
        "outputId": "448e793f-2f7d-4db5-8f52-f6f82a88ecf6",
        "colab": {
          "base_uri": "https://localhost:8080/"
        }
      },
      "source": [
        "y.grad_fn"
      ],
      "execution_count": 107,
      "outputs": [
        {
          "output_type": "execute_result",
          "data": {
            "text/plain": [
              "<AddBackward0 at 0x7f863ba73f10>"
            ]
          },
          "metadata": {},
          "execution_count": 107
        }
      ]
    },
    {
      "cell_type": "code",
      "metadata": {
        "id": "v5BR5Y4Ox02f"
      },
      "source": [
        "z = y * y * 10"
      ],
      "execution_count": 108,
      "outputs": []
    },
    {
      "cell_type": "code",
      "metadata": {
        "id": "5_zo75sMx02g"
      },
      "source": [
        "out = z.mean()"
      ],
      "execution_count": 109,
      "outputs": []
    },
    {
      "cell_type": "code",
      "metadata": {
        "id": "m18Qlq_yx02g",
        "outputId": "39d806e8-2247-46d6-adde-26a4d9db0838",
        "colab": {
          "base_uri": "https://localhost:8080/"
        }
      },
      "source": [
        "z, out"
      ],
      "execution_count": 110,
      "outputs": [
        {
          "output_type": "execute_result",
          "data": {
            "text/plain": [
              "(tensor([[1210., 1210.],\n",
              "         [1210., 1210.],\n",
              "         [1210., 1210.],\n",
              "         [1210., 1210.],\n",
              "         [1210., 1210.]], grad_fn=<MulBackward0>),\n",
              " tensor(1210., grad_fn=<MeanBackward0>))"
            ]
          },
          "metadata": {},
          "execution_count": 110
        }
      ]
    },
    {
      "cell_type": "markdown",
      "metadata": {
        "id": "9OQiCNYMx02g"
      },
      "source": [
        "### 변화도(Gradient) 계산)"
      ]
    },
    {
      "cell_type": "code",
      "metadata": {
        "id": "-WF4dxKwx02g"
      },
      "source": [
        "out.backward(retain_graph=True)"
      ],
      "execution_count": 111,
      "outputs": []
    },
    {
      "cell_type": "code",
      "metadata": {
        "id": "1q0ncMddx02g",
        "outputId": "e7af2aad-c408-4d31-825d-71d150fb6da2",
        "colab": {
          "base_uri": "https://localhost:8080/"
        }
      },
      "source": [
        "print(x.grad)"
      ],
      "execution_count": 112,
      "outputs": [
        {
          "output_type": "stream",
          "name": "stdout",
          "text": [
            "tensor([[22., 22.],\n",
            "        [22., 22.],\n",
            "        [22., 22.],\n",
            "        [22., 22.],\n",
            "        [22., 22.]])\n"
          ]
        }
      ]
    },
    {
      "cell_type": "markdown",
      "metadata": {
        "id": "aUNBsKY0x02h"
      },
      "source": [
        "#### Jacobian matrix 활용"
      ]
    },
    {
      "cell_type": "code",
      "metadata": {
        "id": "nenEEaCVx02h",
        "outputId": "29e3d33f-057c-43d8-e44e-595dcaab275f",
        "colab": {
          "base_uri": "https://localhost:8080/"
        }
      },
      "source": [
        "x = torch.ones(5, 2, requires_grad=True)\n",
        "y = x + 10\n",
        "z = y * y * 10\n",
        "out = z.mean(axis=1)\n",
        "out"
      ],
      "execution_count": 113,
      "outputs": [
        {
          "output_type": "execute_result",
          "data": {
            "text/plain": [
              "tensor([1210., 1210., 1210., 1210., 1210.], grad_fn=<MeanBackward1>)"
            ]
          },
          "metadata": {},
          "execution_count": 113
        }
      ]
    },
    {
      "cell_type": "code",
      "metadata": {
        "id": "1LWujRtLMwse",
        "outputId": "cf44c27b-dbc2-4a40-f69c-082671f82c0e",
        "colab": {
          "base_uri": "https://localhost:8080/"
        }
      },
      "source": [
        "x = torch.ones(5, 2, requires_grad=True)\n",
        "y = x + 10\n",
        "y = y * y * 10\n",
        "y = y.mean(axis=1)\n",
        "y"
      ],
      "execution_count": 114,
      "outputs": [
        {
          "output_type": "execute_result",
          "data": {
            "text/plain": [
              "tensor([1210., 1210., 1210., 1210., 1210.], grad_fn=<MeanBackward1>)"
            ]
          },
          "metadata": {},
          "execution_count": 114
        }
      ]
    },
    {
      "cell_type": "code",
      "metadata": {
        "id": "2HkcDAjax02h"
      },
      "source": [
        "y.backward(torch.tensor([1., 3.,1.,1.,1.]))"
      ],
      "execution_count": 115,
      "outputs": []
    },
    {
      "cell_type": "code",
      "metadata": {
        "id": "Yo_GWxSEx02h",
        "outputId": "2c0a8142-053f-4ade-f457-055302d61b64",
        "colab": {
          "base_uri": "https://localhost:8080/"
        }
      },
      "source": [
        "print(x.grad)"
      ],
      "execution_count": 116,
      "outputs": [
        {
          "output_type": "stream",
          "name": "stdout",
          "text": [
            "tensor([[110., 110.],\n",
            "        [330., 330.],\n",
            "        [110., 110.],\n",
            "        [110., 110.],\n",
            "        [110., 110.]])\n"
          ]
        }
      ]
    },
    {
      "cell_type": "markdown",
      "metadata": {
        "id": "JIERUbPgx02h"
      },
      "source": [
        "## DataLoader"
      ]
    },
    {
      "cell_type": "markdown",
      "metadata": {
        "id": "8GDKLJxKx02i"
      },
      "source": [
        "torch.utils.data.DataLoader(dataset, batch_size=1, shuffle=False,  num_workers=0,...)"
      ]
    },
    {
      "cell_type": "markdown",
      "metadata": {
        "id": "USIrh6pKx02i"
      },
      "source": [
        "데이터를 학습모델에 통째로 넣지 않고 batch 단위로 나누어 학습시킬 때 활용.  \n",
        "모든 데이터를 나누고 나눈 데이터를 차례로 넣어주는 과정을 대신해줌\n",
        "- 용어  \n",
        " - epoch: 모든 training data 혹은 모든 training data를 학습시킨 상태\n",
        " - batch: batch_size만큼의 training data만 학습시키기 위한 소분 데이터\n"
      ]
    },
    {
      "cell_type": "code",
      "metadata": {
        "id": "2Jryz2s4x02i",
        "outputId": "eab1d592-4814-45b5-c413-e1aa65b85566",
        "colab": {
          "base_uri": "https://localhost:8080/"
        }
      },
      "source": [
        "x = [[73, 80, 75],\n",
        "   [93, 88, 93],\n",
        "   [89, 91, 90],\n",
        "   [96, 98, 100],\n",
        "   [73, 66, 70]]\n",
        "x = torch.FloatTensor(x)\n",
        "x"
      ],
      "execution_count": 117,
      "outputs": [
        {
          "output_type": "execute_result",
          "data": {
            "text/plain": [
              "tensor([[ 73.,  80.,  75.],\n",
              "        [ 93.,  88.,  93.],\n",
              "        [ 89.,  91.,  90.],\n",
              "        [ 96.,  98., 100.],\n",
              "        [ 73.,  66.,  70.]])"
            ]
          },
          "metadata": {},
          "execution_count": 117
        }
      ]
    },
    {
      "cell_type": "code",
      "metadata": {
        "id": "3SKPcNX-x02i"
      },
      "source": [
        "data_loader = torch.utils.data.DataLoader(x,\n",
        "                            batch_size=2, \n",
        "                            shuffle=True, \n",
        "                            num_workers=0)"
      ],
      "execution_count": 118,
      "outputs": []
    },
    {
      "cell_type": "code",
      "metadata": {
        "id": "lBjYbuyYx02i",
        "outputId": "d30c9224-f5ad-4b5e-fe0c-f61e927f67fb",
        "colab": {
          "base_uri": "https://localhost:8080/"
        }
      },
      "source": [
        "epochs = 2\n",
        "for epoch in range(epochs):\n",
        "    for step, batch in enumerate(data_loader):\n",
        "        print(step, batch)"
      ],
      "execution_count": 119,
      "outputs": [
        {
          "output_type": "stream",
          "name": "stdout",
          "text": [
            "0 tensor([[ 96.,  98., 100.],\n",
            "        [ 89.,  91.,  90.]])\n",
            "1 tensor([[73., 80., 75.],\n",
            "        [73., 66., 70.]])\n",
            "2 tensor([[93., 88., 93.]])\n",
            "0 tensor([[93., 88., 93.],\n",
            "        [73., 66., 70.]])\n",
            "1 tensor([[ 89.,  91.,  90.],\n",
            "        [ 96.,  98., 100.]])\n",
            "2 tensor([[73., 80., 75.]])\n"
          ]
        }
      ]
    },
    {
      "cell_type": "markdown",
      "metadata": {
        "id": "Reyhobgcx02j"
      },
      "source": [
        "## CUDA Tensor"
      ]
    },
    {
      "cell_type": "markdown",
      "metadata": {
        "id": "8Ew2NRLZx02j"
      },
      "source": [
        "### GPU로 이동"
      ]
    },
    {
      "cell_type": "code",
      "metadata": {
        "id": "OUf9Isugx02j",
        "outputId": "5b42e791-a859-47a7-c61f-0756e6a13ae6",
        "colab": {
          "base_uri": "https://localhost:8080/"
        }
      },
      "source": [
        "if torch.cuda.is_available():\n",
        "    x = x.to(torch.device('cuda'))  # tensor X 를 GPU 로 올림\n",
        "    print(type(x))\n",
        "    print(x.device)"
      ],
      "execution_count": 120,
      "outputs": [
        {
          "output_type": "stream",
          "name": "stdout",
          "text": [
            "<class 'torch.Tensor'>\n",
            "cuda:0\n"
          ]
        }
      ]
    },
    {
      "cell_type": "markdown",
      "metadata": {
        "id": "lhTpdfk9x02j"
      },
      "source": [
        "#### 생성과 함께 gpu에 할당"
      ]
    },
    {
      "cell_type": "code",
      "metadata": {
        "id": "hK5_hwHNx02j",
        "outputId": "6224b94b-4544-4b1d-f5c5-2ac2639d56d1",
        "colab": {
          "base_uri": "https://localhost:8080/"
        }
      },
      "source": [
        "if torch.cuda.is_available():\n",
        "    k = torch.full((2, 3), 1, device=torch.device('cuda'))\n",
        "    print(type(k))\n",
        "    print(k.device)"
      ],
      "execution_count": 121,
      "outputs": [
        {
          "output_type": "stream",
          "name": "stdout",
          "text": [
            "<class 'torch.Tensor'>\n",
            "cuda:0\n"
          ]
        }
      ]
    },
    {
      "cell_type": "markdown",
      "metadata": {
        "id": "rntQdD26x02j"
      },
      "source": [
        "### CPU로 이동"
      ]
    },
    {
      "cell_type": "code",
      "metadata": {
        "id": "Hk8l2Z8Hx02k",
        "outputId": "523e1bda-38cb-4287-c587-813ee08c64c3",
        "colab": {
          "base_uri": "https://localhost:8080/"
        }
      },
      "source": [
        "if torch.cuda.is_available():\n",
        "    x = x.to(torch.device('cpu'))\n",
        "    print(type(x))\n",
        "    print(x.device)"
      ],
      "execution_count": 122,
      "outputs": [
        {
          "output_type": "stream",
          "name": "stdout",
          "text": [
            "<class 'torch.Tensor'>\n",
            "cpu\n"
          ]
        }
      ]
    },
    {
      "cell_type": "code",
      "metadata": {
        "id": "gaOq0j7Hx02k"
      },
      "source": [
        ""
      ],
      "execution_count": 122,
      "outputs": []
    }
  ]
}